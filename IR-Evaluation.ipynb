{
 "cells": [
  {
   "cell_type": "markdown",
   "id": "840f8e98",
   "metadata": {
    "id": "840f8e98"
   },
   "source": [
    "## An IR Evaluation Scenario\n",
    "\n",
    "For a <b>particular query</b>, there are 20 relevant documents. \n",
    "\n",
    "Two IR systems, namely System 1 and System 2, have retrieved lists of 50 and 40 ranked documents respectively for this query. "
   ]
  },
  {
   "cell_type": "code",
   "execution_count": 1,
   "id": "8a11a0c9",
   "metadata": {
    "colab": {
     "base_uri": "https://localhost:8080/"
    },
    "executionInfo": {
     "elapsed": 408,
     "status": "ok",
     "timestamp": 1646309667347,
     "user": {
      "displayName": "Debapriyo Majumdar",
      "photoUrl": "https://lh3.googleusercontent.com/a-/AOh14GjVe46hSrptisxsW0BwR05bsjg795XL18lXJEud6Qg=s64",
      "userId": "00543863801161595698"
     },
     "user_tz": -330
    },
    "id": "8a11a0c9",
    "outputId": "8568f114-c9b1-41b6-c29b-87527202d28b"
   },
   "outputs": [
    {
     "name": "stdout",
     "output_type": "stream",
     "text": [
      "There are 17 relevant documents.\n",
      "System 1 has returned a ranked list of 50 documents.\n",
      "System 2 has returned a ranked list of 40 documents.\n"
     ]
    }
   ],
   "source": [
    "#relevant = set([2, 8, 13, 28, 55, 101, 145, 147, 303, 321, 332, 441, 489, 491, 702, 812, 876, 898, 945, 987])\n",
    "relevant = set([28, 55, 101, 145, 147, 303, 321, 332, 441, 489, 491, 702, 812, 876, 898, 945, 987])\n",
    "\n",
    "ranked1 = [101, 189, 8, 812, 834, 234, 145, 303, 456, 332, 554, \\\n",
    "          981, 702, 987, 50, 2, 13, 345, 999, 489, 898, 55, 28, 87, 102, \\\n",
    "         441, 147, 324, 945, 827, 333, 294, 111, 304, 877, 656, 222, \\\n",
    "          910, 876, 321, 491, 783, 700, 935, 320, 400, 6, 9, 399, 44]\n",
    "\n",
    "ranked2 = [28, 55, 277, 101, 145, 99, 738,147, 892, 11,303, 321, 332, \\\n",
    "          491, 702, 812, 876, 234, 783, 391, 898, 945,\\\n",
    "          829, 109, 78]\n",
    "\n",
    "tail = [2993, 2, 288932, 8, 382773, 13, 28882, 18839, 441, 882901, 882, 18882, 987, 8783, 489]\n",
    "ranked2.extend(tail)\n",
    "\n",
    "print(\"There are\", len(relevant), \"relevant documents.\")\n",
    "print(\"System 1 has returned a ranked list of\", len(ranked1), \"documents.\")\n",
    "print(\"System 2 has returned a ranked list of\", len(ranked2), \"documents.\")"
   ]
  },
  {
   "cell_type": "markdown",
   "id": "1bc70f95",
   "metadata": {
    "id": "1bc70f95"
   },
   "source": [
    "The following two cells are just to validate that the example constructed (by hand) is what we want.\n",
    "\n",
    "Firstly, our ranked results should not have any duplicates. "
   ]
  },
  {
   "cell_type": "code",
   "execution_count": 2,
   "id": "61f06192",
   "metadata": {
    "id": "61f06192"
   },
   "outputs": [],
   "source": [
    "# This is for a preliminary checking \n",
    "def checkduplicate(ranked):\n",
    "    uni = {}\n",
    "    for docid in ranked:\n",
    "        if uni.get(docid, -1) == 1:\n",
    "            print(\"DocId\", docid, \"is duplicate in the ranked list.\")\n",
    "        else:\n",
    "            uni[docid] = 1\n",
    "\n",
    "checkduplicate(ranked1)\n",
    "checkduplicate(ranked2)\n",
    "\n",
    "# If nothing is printed, we are okay to go."
   ]
  },
  {
   "cell_type": "markdown",
   "id": "5db7bb00",
   "metadata": {
    "id": "5db7bb00"
   },
   "source": [
    "Also, for this example, we want that all relevant documents are returned by System 1 so that it reaches recall 100\\%. "
   ]
  },
  {
   "cell_type": "code",
   "execution_count": 3,
   "id": "fe619628",
   "metadata": {
    "id": "fe619628"
   },
   "outputs": [],
   "source": [
    "for docid in relevant:\n",
    "    if docid not in ranked2:\n",
    "        print(\"Attention!\\nDocID\", docid, \"is not returned by the system at all.\")\n",
    "        \n",
    "# If nothing is printed, we are okay to go. "
   ]
  },
  {
   "cell_type": "markdown",
   "id": "de8b0dea",
   "metadata": {
    "id": "de8b0dea"
   },
   "source": [
    "## Unranked precision and recall\n",
    "\n",
    "If the results were <b>not ranked</b>, we can measure overall precision and recall of the systems (for this particular query).\n",
    "\n",
    "$\\large\\mathrm{Precision} = \\frac{\\text{number of relevant docs retrieved}}{\\text{number of total docs retrieved}} = P(\\text{relevant}|\\text{retrieved})$.\n",
    "\n",
    "$\\large\\mathrm{Recall} = \\frac{\\text{number of relevant docs retrieved}}{\\text{number of relevant docs}} = P(\\text{retrieved}|\\text{relevant})$.\n",
    "\n",
    "Let us calculate the precision and recall achieved by the two systems. "
   ]
  },
  {
   "cell_type": "code",
   "execution_count": 4,
   "id": "5274ee1d",
   "metadata": {
    "colab": {
     "base_uri": "https://localhost:8080/"
    },
    "executionInfo": {
     "elapsed": 4,
     "status": "ok",
     "timestamp": 1646309673317,
     "user": {
      "displayName": "Debapriyo Majumdar",
      "photoUrl": "https://lh3.googleusercontent.com/a-/AOh14GjVe46hSrptisxsW0BwR05bsjg795XL18lXJEud6Qg=s64",
      "userId": "00543863801161595698"
     },
     "user_tz": -330
    },
    "id": "5274ee1d",
    "outputId": "5f583644-f8b8-4460-d0a6-04c56972d247"
   },
   "outputs": [
    {
     "name": "stdout",
     "output_type": "stream",
     "text": [
      "System 1: precision = 0.34 , Recall = 1.0\n",
      "System 2: precision = 0.425 , Recall = 1.0\n"
     ]
    }
   ],
   "source": [
    "def precisionAndRecall(retrieved, relevant):\n",
    "    count = len(set(retrieved).intersection(relevant))\n",
    "    return count / len(retrieved), count / len(relevant)\n",
    "\n",
    "p1, r1 = precisionAndRecall(ranked1, relevant)\n",
    "p2, r2 = precisionAndRecall(ranked2, relevant)\n",
    "\n",
    "print(\"System 1: precision =\", p1, \", Recall =\", r1)\n",
    "print(\"System 2: precision =\", p2, \", Recall =\", r2)"
   ]
  },
  {
   "cell_type": "markdown",
   "id": "b2f3e271",
   "metadata": {
    "id": "b2f3e271"
   },
   "source": [
    "## Understanding precision and recall \n",
    "\n",
    "<b>True positive </b>($tp$): Actually relevant (positive) and retrieved (determined as relevant / positive). <br>\n",
    "<b>False positive </b>($fp$): Actually not relevant (negative), but retrieved (determined as relevant / positive). <br>\n",
    "<b>True negative </b>($tn$): Actually not relevant (negative) and not retrieved (determined as not relevant / negative).<br>\n",
    "<b>False negative </b>($fn$): Actually relevant (positive), but not retrieved (determined as not relevant / negative).\n",
    "\n",
    "<table>\n",
    "    <tr>\n",
    "        <td></td><td>Relevant</td><td>Not relevant</td>\n",
    "    </tr>\n",
    "    <tr>\n",
    "        <td>Retrieved</td><td>$tp$</td><td>$fp$</td>\n",
    "    </tr>\n",
    "    <tr>\n",
    "        <td>Not retrieved</td><td>$fn$</td><td>$tn$</td>\n",
    "    </tr>\n",
    "</table>\n",
    "\n",
    "Then, we have $ P = \\frac{tp}{tp + fp}$ and $R = \\frac{tp}{tp + fn}$.\n",
    "\n",
    "<b>Precision</b> is also called the <b>accuracy</b>, particularly for unranked determination tasks (such as classification). "
   ]
  },
  {
   "cell_type": "markdown",
   "id": "842e7aa3",
   "metadata": {
    "id": "842e7aa3"
   },
   "source": [
    "## F-measure (tradeoff precision and recall)\n",
    "\n",
    "Weighted harmonic mean of precision and recall. \n",
    "\n",
    "Balanced F-mesure: $F = \\large\\frac{2PR}{P+R}$.\n",
    "\n",
    "General formula: $F = \\large\\frac{1}{\\alpha \\frac{1}{P} + (1 - \\alpha) \\frac{1}{R}}$, for some $\\alpha \\in [0,1]$.\n",
    "\n",
    "Alternative formula: $F =\\large\\frac{(\\beta^2 + 1)PR}{\\beta^2 P+R}$, where $\\beta^2 = \\large\\frac{1 - \\alpha}{\\alpha}$.\n",
    "\n",
    "The balanced F-measure is the special case when $\\alpha = 1/2$ and $\\beta = 1$. \n",
    "\n",
    "For $\\beta < 1$, we emphasize precision. For $\\beta > 1$, we emphasize recall. \n",
    "\n",
    "Let us compute the F-measures of the two systems in our example. "
   ]
  },
  {
   "cell_type": "code",
   "execution_count": 5,
   "id": "e7b072e9",
   "metadata": {
    "colab": {
     "base_uri": "https://localhost:8080/"
    },
    "executionInfo": {
     "elapsed": 632,
     "status": "ok",
     "timestamp": 1646309675947,
     "user": {
      "displayName": "Debapriyo Majumdar",
      "photoUrl": "https://lh3.googleusercontent.com/a-/AOh14GjVe46hSrptisxsW0BwR05bsjg795XL18lXJEud6Qg=s64",
      "userId": "00543863801161595698"
     },
     "user_tz": -330
    },
    "id": "e7b072e9",
    "outputId": "84642387-9c09-448b-e102-0c1a2f96fbb6"
   },
   "outputs": [
    {
     "name": "stdout",
     "output_type": "stream",
     "text": [
      "System 1: precision = 0.34 , Recall = 1.0 , F-measure = 0.51\n",
      "System 2: precision = 0.425 , Recall = 1.0 , F-measure = 0.60\n"
     ]
    }
   ],
   "source": [
    "F1 = 2*p1*r1/(p1+r1)\n",
    "F2 = 2*p2*r2/(p2+r2)\n",
    "\n",
    "print(\"System 1: precision =\", p1, \", Recall =\", r1, \", F-measure =\", \"%.2f\"%F1)\n",
    "print(\"System 2: precision =\", p2, \", Recall =\", r2, \", F-measure =\",  \"%.2f\"%F2)"
   ]
  },
  {
   "cell_type": "markdown",
   "id": "ffc1f899",
   "metadata": {
    "id": "ffc1f899"
   },
   "source": [
    "## Evaluation of ranked retrieval results\n",
    "\n",
    "Two systems may have the same precision overall, but one of them may perform a better ranking. The goal is to retrieve more relevant documents as top-ranked results. \n",
    "\n",
    "### Precision and recall at $k$ retrieved documents (Prec@$k$, Recall@$k$)\n",
    "\n",
    "Let us consider the ranked results from the beginning while calculating precision and recall at each document retrieved."
   ]
  },
  {
   "cell_type": "code",
   "execution_count": 6,
   "id": "c6917ec4",
   "metadata": {
    "id": "c6917ec4"
   },
   "outputs": [],
   "source": [
    "def rankedEvaluation(ranked, relevant):\n",
    "    precs = []\n",
    "    recalls = []\n",
    "    tp = 0\n",
    "    \n",
    "    print(\"Rank\\tDocID\\tRel\\tPrec\\tRecall\")\n",
    "    for k in range(len(ranked)):\n",
    "        ans = \"N\"\n",
    "        if ranked[k] in relevant:\n",
    "            tp += 1\n",
    "            ans = \"Y\"\n",
    "        P = tp/(k+1)\n",
    "        R = tp/len(relevant)\n",
    "        precs.append(P)\n",
    "        recalls.append(R)\n",
    "        print((k+1), \"\\t\", ranked[k], \"\\t\", ans, \"\\t\",  \"%.2f\"%P, \"\\t\",  \"%.2f\"%R)\n",
    "    return precs, recalls"
   ]
  },
  {
   "cell_type": "code",
   "execution_count": 7,
   "id": "460d2160",
   "metadata": {
    "colab": {
     "base_uri": "https://localhost:8080/"
    },
    "executionInfo": {
     "elapsed": 14,
     "status": "ok",
     "timestamp": 1646309678191,
     "user": {
      "displayName": "Debapriyo Majumdar",
      "photoUrl": "https://lh3.googleusercontent.com/a-/AOh14GjVe46hSrptisxsW0BwR05bsjg795XL18lXJEud6Qg=s64",
      "userId": "00543863801161595698"
     },
     "user_tz": -330
    },
    "id": "460d2160",
    "outputId": "17d679e4-5baa-45aa-8cf7-ca6cd1b293a1"
   },
   "outputs": [
    {
     "name": "stdout",
     "output_type": "stream",
     "text": [
      "Rank\tDocID\tRel\tPrec\tRecall\n",
      "1 \t 101 \t Y \t 1.00 \t 0.06\n",
      "2 \t 189 \t N \t 0.50 \t 0.06\n",
      "3 \t 8 \t N \t 0.33 \t 0.06\n",
      "4 \t 812 \t Y \t 0.50 \t 0.12\n",
      "5 \t 834 \t N \t 0.40 \t 0.12\n",
      "6 \t 234 \t N \t 0.33 \t 0.12\n",
      "7 \t 145 \t Y \t 0.43 \t 0.18\n",
      "8 \t 303 \t Y \t 0.50 \t 0.24\n",
      "9 \t 456 \t N \t 0.44 \t 0.24\n",
      "10 \t 332 \t Y \t 0.50 \t 0.29\n",
      "11 \t 554 \t N \t 0.45 \t 0.29\n",
      "12 \t 981 \t N \t 0.42 \t 0.29\n",
      "13 \t 702 \t Y \t 0.46 \t 0.35\n",
      "14 \t 987 \t Y \t 0.50 \t 0.41\n",
      "15 \t 50 \t N \t 0.47 \t 0.41\n",
      "16 \t 2 \t N \t 0.44 \t 0.41\n",
      "17 \t 13 \t N \t 0.41 \t 0.41\n",
      "18 \t 345 \t N \t 0.39 \t 0.41\n",
      "19 \t 999 \t N \t 0.37 \t 0.41\n",
      "20 \t 489 \t Y \t 0.40 \t 0.47\n",
      "21 \t 898 \t Y \t 0.43 \t 0.53\n",
      "22 \t 55 \t Y \t 0.45 \t 0.59\n",
      "23 \t 28 \t Y \t 0.48 \t 0.65\n",
      "24 \t 87 \t N \t 0.46 \t 0.65\n",
      "25 \t 102 \t N \t 0.44 \t 0.65\n",
      "26 \t 441 \t Y \t 0.46 \t 0.71\n",
      "27 \t 147 \t Y \t 0.48 \t 0.76\n",
      "28 \t 324 \t N \t 0.46 \t 0.76\n",
      "29 \t 945 \t Y \t 0.48 \t 0.82\n",
      "30 \t 827 \t N \t 0.47 \t 0.82\n",
      "31 \t 333 \t N \t 0.45 \t 0.82\n",
      "32 \t 294 \t N \t 0.44 \t 0.82\n",
      "33 \t 111 \t N \t 0.42 \t 0.82\n",
      "34 \t 304 \t N \t 0.41 \t 0.82\n",
      "35 \t 877 \t N \t 0.40 \t 0.82\n",
      "36 \t 656 \t N \t 0.39 \t 0.82\n",
      "37 \t 222 \t N \t 0.38 \t 0.82\n",
      "38 \t 910 \t N \t 0.37 \t 0.82\n",
      "39 \t 876 \t Y \t 0.38 \t 0.88\n",
      "40 \t 321 \t Y \t 0.40 \t 0.94\n",
      "41 \t 491 \t Y \t 0.41 \t 1.00\n",
      "42 \t 783 \t N \t 0.40 \t 1.00\n",
      "43 \t 700 \t N \t 0.40 \t 1.00\n",
      "44 \t 935 \t N \t 0.39 \t 1.00\n",
      "45 \t 320 \t N \t 0.38 \t 1.00\n",
      "46 \t 400 \t N \t 0.37 \t 1.00\n",
      "47 \t 6 \t N \t 0.36 \t 1.00\n",
      "48 \t 9 \t N \t 0.35 \t 1.00\n",
      "49 \t 399 \t N \t 0.35 \t 1.00\n",
      "50 \t 44 \t N \t 0.34 \t 1.00\n"
     ]
    }
   ],
   "source": [
    "precs1, recalls1 = rankedEvaluation(ranked1, relevant)"
   ]
  },
  {
   "cell_type": "code",
   "execution_count": 8,
   "id": "8009234d",
   "metadata": {
    "colab": {
     "base_uri": "https://localhost:8080/"
    },
    "executionInfo": {
     "elapsed": 11,
     "status": "ok",
     "timestamp": 1646309678192,
     "user": {
      "displayName": "Debapriyo Majumdar",
      "photoUrl": "https://lh3.googleusercontent.com/a-/AOh14GjVe46hSrptisxsW0BwR05bsjg795XL18lXJEud6Qg=s64",
      "userId": "00543863801161595698"
     },
     "user_tz": -330
    },
    "id": "8009234d",
    "outputId": "94989248-ab02-4196-c01b-58836c14d2ef"
   },
   "outputs": [
    {
     "name": "stdout",
     "output_type": "stream",
     "text": [
      "Rank\tDocID\tRel\tPrec\tRecall\n",
      "1 \t 28 \t Y \t 1.00 \t 0.06\n",
      "2 \t 55 \t Y \t 1.00 \t 0.12\n",
      "3 \t 277 \t N \t 0.67 \t 0.12\n",
      "4 \t 101 \t Y \t 0.75 \t 0.18\n",
      "5 \t 145 \t Y \t 0.80 \t 0.24\n",
      "6 \t 99 \t N \t 0.67 \t 0.24\n",
      "7 \t 738 \t N \t 0.57 \t 0.24\n",
      "8 \t 147 \t Y \t 0.62 \t 0.29\n",
      "9 \t 892 \t N \t 0.56 \t 0.29\n",
      "10 \t 11 \t N \t 0.50 \t 0.29\n",
      "11 \t 303 \t Y \t 0.55 \t 0.35\n",
      "12 \t 321 \t Y \t 0.58 \t 0.41\n",
      "13 \t 332 \t Y \t 0.62 \t 0.47\n",
      "14 \t 491 \t Y \t 0.64 \t 0.53\n",
      "15 \t 702 \t Y \t 0.67 \t 0.59\n",
      "16 \t 812 \t Y \t 0.69 \t 0.65\n",
      "17 \t 876 \t Y \t 0.71 \t 0.71\n",
      "18 \t 234 \t N \t 0.67 \t 0.71\n",
      "19 \t 783 \t N \t 0.63 \t 0.71\n",
      "20 \t 391 \t N \t 0.60 \t 0.71\n",
      "21 \t 898 \t Y \t 0.62 \t 0.76\n",
      "22 \t 945 \t Y \t 0.64 \t 0.82\n",
      "23 \t 829 \t N \t 0.61 \t 0.82\n",
      "24 \t 109 \t N \t 0.58 \t 0.82\n",
      "25 \t 78 \t N \t 0.56 \t 0.82\n",
      "26 \t 2993 \t N \t 0.54 \t 0.82\n",
      "27 \t 2 \t N \t 0.52 \t 0.82\n",
      "28 \t 288932 \t N \t 0.50 \t 0.82\n",
      "29 \t 8 \t N \t 0.48 \t 0.82\n",
      "30 \t 382773 \t N \t 0.47 \t 0.82\n",
      "31 \t 13 \t N \t 0.45 \t 0.82\n",
      "32 \t 28882 \t N \t 0.44 \t 0.82\n",
      "33 \t 18839 \t N \t 0.42 \t 0.82\n",
      "34 \t 441 \t Y \t 0.44 \t 0.88\n",
      "35 \t 882901 \t N \t 0.43 \t 0.88\n",
      "36 \t 882 \t N \t 0.42 \t 0.88\n",
      "37 \t 18882 \t N \t 0.41 \t 0.88\n",
      "38 \t 987 \t Y \t 0.42 \t 0.94\n",
      "39 \t 8783 \t N \t 0.41 \t 0.94\n",
      "40 \t 489 \t Y \t 0.42 \t 1.00\n"
     ]
    }
   ],
   "source": [
    "precs2, recalls2 = rankedEvaluation(ranked2, relevant)"
   ]
  },
  {
   "cell_type": "markdown",
   "id": "dfc7bb96",
   "metadata": {
    "id": "dfc7bb96"
   },
   "source": [
    "## The precision-recall curve\n",
    "\n",
    "We can plot the (recall, precision) points in a curve, called the <b>precision-recall curve</b>."
   ]
  },
  {
   "cell_type": "code",
   "execution_count": 9,
   "id": "948971cb",
   "metadata": {
    "colab": {
     "base_uri": "https://localhost:8080/",
     "height": 362
    },
    "executionInfo": {
     "elapsed": 1349,
     "status": "ok",
     "timestamp": 1646309681983,
     "user": {
      "displayName": "Debapriyo Majumdar",
      "photoUrl": "https://lh3.googleusercontent.com/a-/AOh14GjVe46hSrptisxsW0BwR05bsjg795XL18lXJEud6Qg=s64",
      "userId": "00543863801161595698"
     },
     "user_tz": -330
    },
    "id": "948971cb",
    "outputId": "ca725e81-1520-4fc8-eb39-d69b6696739e"
   },
   "outputs": [
    {
     "data": {
      "text/plain": [
       "(0.0, 1.1, -0.1, 1.1)"
      ]
     },
     "execution_count": 9,
     "metadata": {},
     "output_type": "execute_result"
    },
    {
     "data": {
      "image/png": "[encoded data removed]",
      "text/plain": [
       "<Figure size 864x720 with 2 Axes>"
      ]
     },
     "metadata": {
      "needs_background": "light"
     },
     "output_type": "display_data"
    }
   ],
   "source": [
    "%matplotlib inline\n",
    "import numpy as np\n",
    "import matplotlib.pyplot as plt\n",
    "\n",
    "plt.figure(figsize=(12, 10))\n",
    "plt.subplot(221)\n",
    "plt.title('System 1')\n",
    "plt.xlabel('Recall')\n",
    "plt.ylabel('Precision')\n",
    "plt.plot(recalls1, precs1, 'b--*')\n",
    "plt.axis([0, 1.1, -0.1, 1.1])\n",
    "plt.subplot(222)\n",
    "plt.title('System 2')\n",
    "plt.xlabel('Recall')\n",
    "plt.ylabel('Precision')\n",
    "plt.plot(recalls2, precs2, 'b--*')\n",
    "plt.axis([0, 1.1, -0.1, 1.1])"
   ]
  },
  {
   "cell_type": "markdown",
   "id": "06299d13",
   "metadata": {
    "id": "06299d13"
   },
   "source": [
    "<b>Note:</b> Such a curve can have a saw-tooth shape, because \n",
    "* If a retrieved document is relevant, both precision and recall goes up, so the curve jags up to the right.\n",
    "* If a retrieved document is not relevant, then recall remains the same (no new relevant document retrieved), but the precision drops, so the curve falls directly towards the bottom. \n",
    "\n",
    "## Interpolated precision\n",
    "\n",
    "* Idea 1: calculate only at points where the recall is changing (recall can only increase).\n",
    "* Idea 2: make sure that the precision does not increase with recall. \n",
    "\n",
    "The interpolated precision $P_{\\text{interp}}(r)$ at a certain recall level $r$ is defined as the highest precision for any recall $r' > r$.\n",
    "\n",
    "$P_{\\text{interp}}(r) = \\max_{r' \\geq r} P(r)$."
   ]
  },
  {
   "cell_type": "code",
   "execution_count": 10,
   "id": "9699cade",
   "metadata": {
    "id": "9699cade"
   },
   "outputs": [],
   "source": [
    "def interpolated_precisions(ranked, precs, recalls):\n",
    "    interp_precs = []\n",
    "    interp_recalls = []\n",
    "    ranks = []\n",
    "    # Initialize R = -1 so that the first doc retrieved changes the recall\n",
    "    R = -1\n",
    "    print(\"Rank\\tDocID\\tRel\\tPrec\\tRecall\\tInt.Prec\")\n",
    "    for k in range(len(recalls)):\n",
    "        if recalls[k] > R:\n",
    "            iP = max(precs[k:])\n",
    "            R = recalls[k]\n",
    "            interp_precs.append(iP)\n",
    "            interp_recalls.append(recalls[k])\n",
    "            ranks.append(k)\n",
    "            print((k+1), \"\\t\", ranked[k], \"\\t\", \"Y\", \"\\t\",  \"%.2f\"%precs[k], \"\\t\",  \"%.2f\"%R, \"\\t\", \"%.2f\"%iP)\n",
    "        else:\n",
    "            print((k+1), \"\\t\", ranked[k], \"\\t\", \"N\", \"\\t\",  \"%.2f\"%precs[k], \"\\t\",  \"%.2f\"%R)\n",
    "    return ranks, interp_precs, interp_recalls"
   ]
  },
  {
   "cell_type": "code",
   "execution_count": 11,
   "id": "cba9cf47",
   "metadata": {
    "colab": {
     "base_uri": "https://localhost:8080/"
    },
    "executionInfo": {
     "elapsed": 388,
     "status": "ok",
     "timestamp": 1646309720954,
     "user": {
      "displayName": "Debapriyo Majumdar",
      "photoUrl": "https://lh3.googleusercontent.com/a-/AOh14GjVe46hSrptisxsW0BwR05bsjg795XL18lXJEud6Qg=s64",
      "userId": "00543863801161595698"
     },
     "user_tz": -330
    },
    "id": "cba9cf47",
    "outputId": "5b60d85b-a1ec-46a4-ea07-0e87aa20fbe0"
   },
   "outputs": [
    {
     "name": "stdout",
     "output_type": "stream",
     "text": [
      "Rank\tDocID\tRel\tPrec\tRecall\tInt.Prec\n",
      "1 \t 101 \t Y \t 1.00 \t 0.06 \t 1.00\n",
      "2 \t 189 \t N \t 0.50 \t 0.06\n",
      "3 \t 8 \t N \t 0.33 \t 0.06\n",
      "4 \t 812 \t Y \t 0.50 \t 0.12 \t 0.50\n",
      "5 \t 834 \t N \t 0.40 \t 0.12\n",
      "6 \t 234 \t N \t 0.33 \t 0.12\n",
      "7 \t 145 \t Y \t 0.43 \t 0.18 \t 0.50\n",
      "8 \t 303 \t Y \t 0.50 \t 0.24 \t 0.50\n",
      "9 \t 456 \t N \t 0.44 \t 0.24\n",
      "10 \t 332 \t Y \t 0.50 \t 0.29 \t 0.50\n",
      "11 \t 554 \t N \t 0.45 \t 0.29\n",
      "12 \t 981 \t N \t 0.42 \t 0.29\n",
      "13 \t 702 \t Y \t 0.46 \t 0.35 \t 0.50\n",
      "14 \t 987 \t Y \t 0.50 \t 0.41 \t 0.50\n",
      "15 \t 50 \t N \t 0.47 \t 0.41\n",
      "16 \t 2 \t N \t 0.44 \t 0.41\n",
      "17 \t 13 \t N \t 0.41 \t 0.41\n",
      "18 \t 345 \t N \t 0.39 \t 0.41\n",
      "19 \t 999 \t N \t 0.37 \t 0.41\n",
      "20 \t 489 \t Y \t 0.40 \t 0.47 \t 0.48\n",
      "21 \t 898 \t Y \t 0.43 \t 0.53 \t 0.48\n",
      "22 \t 55 \t Y \t 0.45 \t 0.59 \t 0.48\n",
      "23 \t 28 \t Y \t 0.48 \t 0.65 \t 0.48\n",
      "24 \t 87 \t N \t 0.46 \t 0.65\n",
      "25 \t 102 \t N \t 0.44 \t 0.65\n",
      "26 \t 441 \t Y \t 0.46 \t 0.71 \t 0.48\n",
      "27 \t 147 \t Y \t 0.48 \t 0.76 \t 0.48\n",
      "28 \t 324 \t N \t 0.46 \t 0.76\n",
      "29 \t 945 \t Y \t 0.48 \t 0.82 \t 0.48\n",
      "30 \t 827 \t N \t 0.47 \t 0.82\n",
      "31 \t 333 \t N \t 0.45 \t 0.82\n",
      "32 \t 294 \t N \t 0.44 \t 0.82\n",
      "33 \t 111 \t N \t 0.42 \t 0.82\n",
      "34 \t 304 \t N \t 0.41 \t 0.82\n",
      "35 \t 877 \t N \t 0.40 \t 0.82\n",
      "36 \t 656 \t N \t 0.39 \t 0.82\n",
      "37 \t 222 \t N \t 0.38 \t 0.82\n",
      "38 \t 910 \t N \t 0.37 \t 0.82\n",
      "39 \t 876 \t Y \t 0.38 \t 0.88 \t 0.41\n",
      "40 \t 321 \t Y \t 0.40 \t 0.94 \t 0.41\n",
      "41 \t 491 \t Y \t 0.41 \t 1.00 \t 0.41\n",
      "42 \t 783 \t N \t 0.40 \t 1.00\n",
      "43 \t 700 \t N \t 0.40 \t 1.00\n",
      "44 \t 935 \t N \t 0.39 \t 1.00\n",
      "45 \t 320 \t N \t 0.38 \t 1.00\n",
      "46 \t 400 \t N \t 0.37 \t 1.00\n",
      "47 \t 6 \t N \t 0.36 \t 1.00\n",
      "48 \t 9 \t N \t 0.35 \t 1.00\n",
      "49 \t 399 \t N \t 0.35 \t 1.00\n",
      "50 \t 44 \t N \t 0.34 \t 1.00\n"
     ]
    }
   ],
   "source": [
    "ranks1, iPs1, iRs1 = interpolated_precisions(ranked1, precs1, recalls1)"
   ]
  },
  {
   "cell_type": "code",
   "execution_count": 12,
   "id": "fe83ccda",
   "metadata": {
    "colab": {
     "base_uri": "https://localhost:8080/"
    },
    "executionInfo": {
     "elapsed": 4,
     "status": "ok",
     "timestamp": 1646309722500,
     "user": {
      "displayName": "Debapriyo Majumdar",
      "photoUrl": "https://lh3.googleusercontent.com/a-/AOh14GjVe46hSrptisxsW0BwR05bsjg795XL18lXJEud6Qg=s64",
      "userId": "00543863801161595698"
     },
     "user_tz": -330
    },
    "id": "fe83ccda",
    "outputId": "ae3cd825-4724-49c8-9f6c-cd2d7595aca2"
   },
   "outputs": [
    {
     "name": "stdout",
     "output_type": "stream",
     "text": [
      "Rank\tDocID\tRel\tPrec\tRecall\tInt.Prec\n",
      "1 \t 28 \t Y \t 1.00 \t 0.06 \t 1.00\n",
      "2 \t 55 \t Y \t 1.00 \t 0.12 \t 1.00\n",
      "3 \t 277 \t N \t 0.67 \t 0.12\n",
      "4 \t 101 \t Y \t 0.75 \t 0.18 \t 0.80\n",
      "5 \t 145 \t Y \t 0.80 \t 0.24 \t 0.80\n",
      "6 \t 99 \t N \t 0.67 \t 0.24\n",
      "7 \t 738 \t N \t 0.57 \t 0.24\n",
      "8 \t 147 \t Y \t 0.62 \t 0.29 \t 0.71\n",
      "9 \t 892 \t N \t 0.56 \t 0.29\n",
      "10 \t 11 \t N \t 0.50 \t 0.29\n",
      "11 \t 303 \t Y \t 0.55 \t 0.35 \t 0.71\n",
      "12 \t 321 \t Y \t 0.58 \t 0.41 \t 0.71\n",
      "13 \t 332 \t Y \t 0.62 \t 0.47 \t 0.71\n",
      "14 \t 491 \t Y \t 0.64 \t 0.53 \t 0.71\n",
      "15 \t 702 \t Y \t 0.67 \t 0.59 \t 0.71\n",
      "16 \t 812 \t Y \t 0.69 \t 0.65 \t 0.71\n",
      "17 \t 876 \t Y \t 0.71 \t 0.71 \t 0.71\n",
      "18 \t 234 \t N \t 0.67 \t 0.71\n",
      "19 \t 783 \t N \t 0.63 \t 0.71\n",
      "20 \t 391 \t N \t 0.60 \t 0.71\n",
      "21 \t 898 \t Y \t 0.62 \t 0.76 \t 0.64\n",
      "22 \t 945 \t Y \t 0.64 \t 0.82 \t 0.64\n",
      "23 \t 829 \t N \t 0.61 \t 0.82\n",
      "24 \t 109 \t N \t 0.58 \t 0.82\n",
      "25 \t 78 \t N \t 0.56 \t 0.82\n",
      "26 \t 2993 \t N \t 0.54 \t 0.82\n",
      "27 \t 2 \t N \t 0.52 \t 0.82\n",
      "28 \t 288932 \t N \t 0.50 \t 0.82\n",
      "29 \t 8 \t N \t 0.48 \t 0.82\n",
      "30 \t 382773 \t N \t 0.47 \t 0.82\n",
      "31 \t 13 \t N \t 0.45 \t 0.82\n",
      "32 \t 28882 \t N \t 0.44 \t 0.82\n",
      "33 \t 18839 \t N \t 0.42 \t 0.82\n",
      "34 \t 441 \t Y \t 0.44 \t 0.88 \t 0.44\n",
      "35 \t 882901 \t N \t 0.43 \t 0.88\n",
      "36 \t 882 \t N \t 0.42 \t 0.88\n",
      "37 \t 18882 \t N \t 0.41 \t 0.88\n",
      "38 \t 987 \t Y \t 0.42 \t 0.94 \t 0.42\n",
      "39 \t 8783 \t N \t 0.41 \t 0.94\n",
      "40 \t 489 \t Y \t 0.42 \t 1.00 \t 0.42\n"
     ]
    }
   ],
   "source": [
    "ranks2, iPs2, iRs2 = interpolated_precisions(ranked2, precs2, recalls2)"
   ]
  },
  {
   "cell_type": "markdown",
   "id": "1106e9ff",
   "metadata": {
    "id": "1106e9ff"
   },
   "source": [
    "### Interpolated precision - recall curve\n",
    "\n",
    "So, we can plot the interpolated precision against recall. "
   ]
  },
  {
   "cell_type": "code",
   "execution_count": 13,
   "id": "50253378",
   "metadata": {
    "colab": {
     "base_uri": "https://localhost:8080/",
     "height": 362
    },
    "executionInfo": {
     "elapsed": 1193,
     "status": "ok",
     "timestamp": 1646309727238,
     "user": {
      "displayName": "Debapriyo Majumdar",
      "photoUrl": "https://lh3.googleusercontent.com/a-/AOh14GjVe46hSrptisxsW0BwR05bsjg795XL18lXJEud6Qg=s64",
      "userId": "00543863801161595698"
     },
     "user_tz": -330
    },
    "id": "50253378",
    "outputId": "90bb1b98-38f4-4b43-fae6-7fb353eb9523"
   },
   "outputs": [
    {
     "data": {
      "text/plain": [
       "(0.0, 1.1, -0.1, 1.1)"
      ]
     },
     "execution_count": 13,
     "metadata": {},
     "output_type": "execute_result"
    },
    {
     "data": {
      "image/png": "[encoded data removed]",
      "text/plain": [
       "<Figure size 864x720 with 2 Axes>"
      ]
     },
     "metadata": {
      "needs_background": "light"
     },
     "output_type": "display_data"
    }
   ],
   "source": [
    "plt.figure(figsize=(12, 10))\n",
    "plt.subplot(221)\n",
    "plt.title('System 1')\n",
    "plt.xlabel('Recall')\n",
    "plt.ylabel('Precision')\n",
    "plt.plot(recalls1, precs1, 'b--*')\n",
    "plt.plot(iRs1, iPs1, 'r-.')\n",
    "plt.axis([0, 1.1, -0.1, 1.1])\n",
    "plt.subplot(222)\n",
    "plt.title('System 2')\n",
    "plt.xlabel('Recall')\n",
    "plt.ylabel('Precision')\n",
    "plt.plot(recalls2, precs2, 'b--*')\n",
    "plt.plot(iRs2, iPs2, 'r-.')\n",
    "plt.axis([0, 1.1, -0.1, 1.1])"
   ]
  }
 ],
 "metadata": {
  "colab": {
   "name": "IR-Evaluation",
   "provenance": []
  },
  "kernelspec": {
   "display_name": "Python 3 (ipykernel)",
   "language": "python",
   "name": "python3"
  },
  "language_info": {
   "codemirror_mode": {
    "name": "ipython",
    "version": 3
   },
   "file_extension": ".py",
   "mimetype": "text/x-python",
   "name": "python",
   "nbconvert_exporter": "python",
   "pygments_lexer": "ipython3",
   "version": "3.10.2"
  }
 },
 "nbformat": 4,
 "nbformat_minor": 5
}
